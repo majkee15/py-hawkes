{
 "cells": [
  {
   "cell_type": "code",
   "execution_count": 1,
   "metadata": {},
   "outputs": [],
   "source": [
    "import pyhawkes\n",
    "import numpy as np"
   ]
  },
  {
   "cell_type": "code",
   "execution_count": 2,
   "metadata": {},
   "outputs": [
    {
     "name": "stdout",
     "output_type": "stream",
     "text": [
      "Number of events in dimension 0: 30561\n",
      "Number of events in dimension 1: 53105\n",
      "Number of events in dimension 2: 37596\n",
      "\n",
      "Negative Log-likelihood: 211140.3723209708\n",
      "\n",
      "P-value for Kolmogorov-Smirnov test for dimension 0: 0.37824921532045086\n",
      "P-value for Excess Dispresion test for dimension 0: 0.24957852487649515\n",
      "P-value for Ljung-Box test  for dimension 0: 0.13675063974280532\n",
      "\n",
      "P-value for Kolmogorov-Smirnov test for dimension 1: 0.17695430498703096\n",
      "P-value for Excess Dispresion test for dimension 1: 0.10645429408458591\n",
      "P-value for Ljung-Box test  for dimension 1: 0.9461245243519837\n",
      "\n",
      "P-value for Kolmogorov-Smirnov test for dimension 2: 0.13311079915089338\n",
      "P-value for Excess Dispresion test for dimension 2: 0.38254698268960075\n",
      "P-value for Ljung-Box test  for dimension 2: 0.94504279067333\n",
      "\n"
     ]
    }
   ],
   "source": [
    "import os\n",
    "import sys\n",
    "import numpy as np\n",
    "import scipy.stats\n",
    "import matplotlib.pyplot as plt\n",
    "import functools\n",
    "\n",
    "\n",
    "def ljung_box_test(x, lag):\n",
    "    n = len(x)\n",
    "    dex = x - x.mean()\n",
    "    acf = np.zeros(lag + 1)\n",
    "    for i in range(lag + 1):\n",
    "        acf[i] = sum(dex[:(n-i)] * dex[i:n]) / n\n",
    "    acf = acf / acf[0]\n",
    "    stat = n * (n + 2) * np.sum((acf[1:lag + 1] ** 2) / np.arange(n - 1, n - lag - 1, - 1))\n",
    "    lb_test = 1 - scipy.stats.chi2.cdf(stat, lag)\n",
    "    return lb_test\n",
    "\n",
    "mu = np.array([0.2, 0.25, 0.15])\n",
    "alpha = np.array([[0.4, 0.1, 0.1], [0.3, 0.35, 0.4], [0.18, 0.2, 0.31]])\n",
    "beta = np.array([[1.8, 2.1, 2.5], [1.2, 2, 1.3], [1.4, 0.8, 2.3]])\n",
    "    \n",
    "dim = 3\n",
    "T = 100000\n",
    "max_jumps = 200000\n",
    "seed = 123\n",
    "hawkes = pyhawkes.sim_exp_hawkes(mu, alpha, beta, T, max=max_jumps, rseed=seed)\n",
    "\n",
    "for i in range(dim):\n",
    "    print(\"Number of events in dimension {}: {}\".format(i, len(hawkes[i])))\n",
    "print(\"\")\n",
    "    \n",
    "print(\"Negative Log-likelihood: {}\".format(pyhawkes.lik_exp_hawkes(mu, alpha, beta, hawkes, T)))\n",
    "print(\"\")\n",
    "\n",
    "comp = pyhawkes.comp_exp_hawkes(mu, alpha, beta, hawkes, T)\n",
    "\n",
    "for i in range(dim):\n",
    "    _, p_value = scipy.stats.kstest(comp[i], 'expon', args=(0, 1))\n",
    "    print(\"P-value for Kolmogorov-Smirnov test for dimension {}: {}\". format(i, p_value))\n",
    "    comp_var = np.var(comp[i])\n",
    "    comp_limit = np.sqrt(len(comp[i])) * (comp_var - 1) / np.sqrt(8)\n",
    "    comp_test = abs(scipy.stats.norm.pdf(comp_limit))\n",
    "    print(\"P-value for Excess Dispresion test for dimension {}: {}\".format(i, comp_test))\n",
    "    comp_ljung_box = ljung_box_test(comp[i], lag=20)\n",
    "    print(\"P-value for Ljung-Box test  for dimension {}: {}\".format(i, comp_ljung_box))\n",
    "    print(\"\")"
   ]
  },
  {
   "cell_type": "code",
   "execution_count": 4,
   "metadata": {},
   "outputs": [
    {
     "data": {
      "text/plain": [
       "[array([ 7.63878965,  8.0679562 , 10.42089253, 11.11960437, 27.35222577,\n",
       "        27.49100019, 32.68087061, 34.39020613, 34.44138112, 34.86665379,\n",
       "        37.67312901, 42.08740898, 47.42557163, 57.21732385, 57.70419458,\n",
       "        57.88463277, 58.34094559, 59.06017812, 59.35478718, 61.02912189,\n",
       "        62.99879352, 69.34917635, 84.21969446, 86.44569242, 97.17036325])]"
      ]
     },
     "execution_count": 4,
     "metadata": {},
     "output_type": "execute_result"
    }
   ],
   "source": [
    "mu = np.array([0.2,])\n",
    "alpha = np.array([[0.4]])\n",
    "beta = np.array([[1.8]])\n",
    "pyhawkes.sim_exp_hawkes(mu,alpha,beta,100)"
   ]
  },
  {
   "cell_type": "code",
   "execution_count": 56,
   "metadata": {},
   "outputs": [
    {
     "ename": "AttributeError",
     "evalue": "module 'numpy' has no attribute 'int64t'",
     "output_type": "error",
     "traceback": [
      "\u001b[0;31m---------------------------------------------------------------------------\u001b[0m",
      "\u001b[0;31mAttributeError\u001b[0m                            Traceback (most recent call last)",
      "\u001b[0;32m<ipython-input-56-49e9be08ef5d>\u001b[0m in \u001b[0;36m<module>\u001b[0;34m\u001b[0m\n\u001b[0;32m----> 1\u001b[0;31m \u001b[0mnp\u001b[0m\u001b[0;34m.\u001b[0m\u001b[0mint64t\u001b[0m\u001b[0;34m\u001b[0m\u001b[0;34m\u001b[0m\u001b[0m\n\u001b[0m",
      "\u001b[0;31mAttributeError\u001b[0m: module 'numpy' has no attribute 'int64t'"
     ]
    }
   ],
   "source": [
    "np.int_.conj"
   ]
  },
  {
   "cell_type": "code",
   "execution_count": 36,
   "metadata": {},
   "outputs": [
    {
     "ename": "AttributeError",
     "evalue": "module 'numpy' has no attribute 'int64_t'",
     "output_type": "error",
     "traceback": [
      "\u001b[0;31m---------------------------------------------------------------------------\u001b[0m",
      "\u001b[0;31mAttributeError\u001b[0m                            Traceback (most recent call last)",
      "\u001b[0;32m<ipython-input-36-eeb259ec5bec>\u001b[0m in \u001b[0;36m<module>\u001b[0;34m\u001b[0m\n\u001b[0;32m----> 1\u001b[0;31m \u001b[0mnp\u001b[0m\u001b[0;34m.\u001b[0m\u001b[0mint64_t\u001b[0m\u001b[0;34m\u001b[0m\u001b[0;34m\u001b[0m\u001b[0m\n\u001b[0m",
      "\u001b[0;31mAttributeError\u001b[0m: module 'numpy' has no attribute 'int64_t'"
     ]
    }
   ],
   "source": [
    "np.flo"
   ]
  },
  {
   "cell_type": "code",
   "execution_count": null,
   "metadata": {},
   "outputs": [],
   "source": []
  }
 ],
 "metadata": {
  "kernelspec": {
   "display_name": "Python 3",
   "language": "python",
   "name": "python3"
  },
  "language_info": {
   "codemirror_mode": {
    "name": "ipython",
    "version": 3
   },
   "file_extension": ".py",
   "mimetype": "text/x-python",
   "name": "python",
   "nbconvert_exporter": "python",
   "pygments_lexer": "ipython3",
   "version": "3.7.2"
  }
 },
 "nbformat": 4,
 "nbformat_minor": 2
}
